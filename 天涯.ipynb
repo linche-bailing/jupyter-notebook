{
 "cells": [
  {
   "cell_type": "code",
   "execution_count": null,
   "metadata": {},
   "outputs": [],
   "source": [
    "#天涯\n",
    "import requests\n",
    "from bs4 import BeautifulSoup\n",
    "import bs4\n",
    "import csv\n",
    "url='http://bbs.tianya.cn/list.jsp?item=university&nextid=1606474982000'\n",
    "h= {'User-agent': 'Mozilla/5.0 (Windows NT 10.0; Win64; x64) AppleWebKit/537.36 (KHTML, like Gecko) Chrome/87.0.4280.88 Safari/537.36','Refer':'https://www.zhipin.com/c101200100-p100101/?page=3&ka=page-3'}\n",
    "c={'cookie':'lastCity=101200100; __zp_seo_uuid__=3aff4214-e5e9-41d7-998c-1787a003ebda; __g=-; __l=r=https%3A%2F%2Fwww.baidu.com%2Flink%3Furl%3DYMkcU-IoONmW7aJ752_mZKZs92h213U6vN7rbwzPE-YenTvHcfOvZgV78oqE654n%26wd%3D%26eqid%3Dd5dcf22a00001fe7000000065fc776a6&l=%2Fwww.zhipin.com%2Fwuhan%2F&s=1&g=&s=3&friend_source=0; Hm_lvt_194df3105ad7148dcf2b98a91b5e727a=1606732890,1606907562,1606907568,1606907571; __fid=cfa41c02405dfe29f6abfc0229aa60a7; __c=1606907562; __a=12226537.1606732871.1606732871.1606907562.24.2.19.19; Hm_lpvt_194df3105ad7148dcf2b98a91b5e727a=1606961902; __zp_stoken__=0fdabAEMwYwEBV2YCbTMdJGpjblZZahkCYX06Lgw9LmkYaXIMFgEDJ297WF5pRi5sWlcPbXRkbhwTXG5mDUMwH1FbIGlYA1FxKycGfTRfSUMYFhwgMB0fM2QwClI7Q3NQXAYFfkYbHDxnVXgFdA%3D%3D'}\n",
    "r=requests.get(url, headers=h,cookies=c,timeout=30)\n",
    "r.raise_for_status()  #产生异常信息\n",
    "r.encoding=r.apparent_encoding\n",
    "soup=BeautifulSoup(r.text,\"html.parser\")\n",
    "ulist=[]\n",
    "for i in soup.find_all('tbody'):\n",
    "    for tr in i:\n",
    "        if isinstance(tr,bs4.element.Tag):\n",
    "            title=tr('a',\"_blank\")\n",
    "            name=tr('a',\"author\")\n",
    "            tds=tr('td')\n",
    "            if name !=[] and title !=[] and tds!=[]:\n",
    "                ulist.append([title[0].text.strip(),name[0].text.strip(),tds[2].text.strip(),tds[3].text.strip()])\n",
    "csvf = open(\"D:/jupyter notebook/temp13.csv\",'a+', encoding='gbk',newline = '')\n",
    "xieru= csv.writer(csvf)\n",
    "xieru.writerow(('标题','作者','点击','赞'))\n",
    "for data in ulist:\n",
    "    if data!='': # 去除空行\n",
    "        xieru.writerows(data)\n",
    "csvf.close\n",
    "\n"
   ]
  }
 ],
 "metadata": {
  "kernelspec": {
   "display_name": "Python 3",
   "language": "python",
   "name": "python3"
  },
  "language_info": {
   "codemirror_mode": {
    "name": "ipython",
    "version": 3
   },
   "file_extension": ".py",
   "mimetype": "text/x-python",
   "name": "python",
   "nbconvert_exporter": "python",
   "pygments_lexer": "ipython3",
   "version": "3.8.3"
  }
 },
 "nbformat": 4,
 "nbformat_minor": 4
}
