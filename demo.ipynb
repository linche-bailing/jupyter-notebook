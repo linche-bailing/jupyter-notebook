#boss直聘
import requests
from bs4 import BeautifulSoup
import bs4
import csv
url='https://www.zhipin.com/c101200100-p100101/?page=1&ka=page-1'
h= {'user-agent': 'Mozilla/5.0','refer':'https://www.zhipin.com/c101200100-p100101/?page=3&ka=page-3'}
c={'cookie':'lastCity=101200100; __zp_seo_uuid__=3aff4214-e5e9-41d7-998c-1787a003ebda; __g=-; __l=r=https%3A%2F%2Fwww.baidu.com%2Flink%3Furl%3DYMkcU-IoONmW7aJ752_mZKZs92h213U6vN7rbwzPE-YenTvHcfOvZgV78oqE654n%26wd%3D%26eqid%3Dd5dcf22a00001fe7000000065fc776a6&l=%2Fwww.zhipin.com%2Fwuhan%2F&s=1&g=&s=3&friend_source=0; Hm_lvt_194df3105ad7148dcf2b98a91b5e727a=1606732890,1606907562,1606907568,1606907571; __fid=cfa41c02405dfe29f6abfc0229aa60a7; __c=1606907562; __a=12226537.1606732871.1606732871.1606907562.24.2.19.19; Hm_lpvt_194df3105ad7148dcf2b98a91b5e727a=1606961902; __zp_stoken__=0fdabAEMwYwEBV2YCbTMdJGpjblZZahkCYX06Lgw9LmkYaXIMFgEDJ297WF5pRi5sWlcPbXRkbhwTXG5mDUMwH1FbIGlYA1FxKycGfTRfSUMYFhwgMB0fM2QwClI7Q3NQXAYFfkYbHDxnVXgFdA%3D%3D'}
r=requests.get(url, headers=h,cookies=c,timeout=30)
r.raise_for_status()  #产生异常信息
r.encoding=r.apparent_encoding
soup=BeautifulSoup(r.text,"html.parser")
ulist=[]
for i in soup.find_all('li'):
    for div in i:
        if isinstance(div,bs4.element.Tag):
            name=div('span',"job-name")
            xinchou=div('span',"red")
            danwei=div('span',"job-area")
            if name !=[] and xinchou !=[] and danwei !=[]:
                ulist.append([name[0].text.strip(),xinchou[0].text.strip(),danwei[0].text.strip()])
for u in ulist:
    print(u)
