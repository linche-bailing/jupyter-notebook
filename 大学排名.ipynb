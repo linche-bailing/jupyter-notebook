{
 "cells": [
  {
   "cell_type": "code",
   "execution_count": 64,
   "metadata": {},
   "outputs": [],
   "source": [
    "import requests\n",
    "import bs4\n",
    "from bs4 import BeautifulSoup\n",
    "import csv\n",
    "url=\"https://www.shanghairanking.cn/rankings/bcur/2020\"\n",
    "headers={\"User-agent\":\"Mozilla/5.0 (Windows NT 10.0; Win64; x64) AppleWebKit/537.36 (KHTML, like Gecko) Chrome/86.0.4240.75 Safari/537.36\"}\n",
    "r=requests.get(url,headers=headers)\n",
    "r.encoding=r.apparent_encoding\n",
    "soup=BeautifulSoup(r.text,\"html.parser\")\n",
    "ulist=[]\n",
    "for tr in soup.find('tbody').children:\n",
    "    if isinstance(tr,bs4.element.Tag):\n",
    "        tds = tr('td')\n",
    "        ulist.append([tds[0].text.strip(),tds[1]('a')[0].text.strip(),tds[2].text.strip(),tds[4].text.strip()])       \n",
    "with open(\"F:/jupyter notebook/数据保存/大学排名2.csv\",'w',newline='',encoding='gbk') as csvf:\n",
    "    csv1=csv.writer(csvf)\n",
    "    csv1.writerow((\"排名\",'大学名称','省市','分数'))\n",
    "    for u in ulist:\n",
    "        csv1.writerow((u[0],u[1],u[2],u[3]))"
   ]
  },
  {
   "cell_type": "code",
   "execution_count": 50,
   "metadata": {
    "scrolled": true
   },
   "outputs": [
    {
     "name": "stdout",
     "output_type": "stream",
     "text": [
      "    排名    \t　　　　名称　　　　\t    得分    \n",
      "    1     \t　　　清华大学　　　\t  852.5   \n",
      "    2     \t　　　北京大学　　　\t  746.7   \n",
      "    3     \t　　　浙江大学　　　\t  649.2   \n",
      "    4     \t　　上海交通大学　　\t  625.9   \n",
      "    5     \t　　　南京大学　　　\t  566.1   \n",
      "    6     \t　　　复旦大学　　　\t  556.7   \n",
      "    7     \t　中国科学技术大学　\t  526.4   \n",
      "    8     \t　　华中科技大学　　\t  497.7   \n",
      "    9     \t　　　武汉大学　　　\t   488    \n",
      "    10    \t　　　中山大学　　　\t  457.2   \n",
      "    11    \t　　西安交通大学　　\t  452.5   \n",
      "    12    \t　哈尔滨工业大学　　\t  450.2   \n",
      "    13    \t　北京航空航天大学　\t  445.1   \n",
      "    14    \t　　北京师范大学　　\t  440.9   \n",
      "    15    \t　　　同济大学　　　\t   439    \n",
      "    16    \t　　　四川大学　　　\t  435.7   \n",
      "    17    \t　　　东南大学　　　\t  432.7   \n",
      "    18    \t　　中国人民大学　　\t  409.7   \n",
      "    19    \t　　　南开大学　　　\t  402.1   \n",
      "    20    \t　　北京理工大学　　\t  395.6   \n"
     ]
    }
   ],
   "source": [
    "#大学排名\n",
    "import requests\n",
    "from bs4 import BeautifulSoup\n",
    "import bs4\n",
    "\n",
    "def getHTMLText(url):\n",
    "    try:\n",
    "        r=requests.get(url, timeout=30)\n",
    "        r.raise_for_status()  #产生异常信息\n",
    "        r.encoding=r.apparent_encoding\n",
    "        return r.text\n",
    "    except:\n",
    "        return \"产生异常\"\n",
    "   # return \"\"\n",
    "\n",
    "def fullUnivList(ulist,html):\n",
    "    soup=BeautifulSoup(html,\"html.parser\")\n",
    "    for tr in soup.find('tbody').children:    #soup.find()找到一个标签，在这个标签下面下行检索\n",
    "    #for tr in soup.find_all('tr','alt'):\n",
    "        if isinstance(tr,bs4.element.Tag):\n",
    "           tds = tr('td')                 #tds=tr.find_all('td')\n",
    "           ulist.append([tds[0].text.strip(),tds[1]('a')[0].text.strip(),tds[4].text.strip()])\n",
    "\n",
    "\n",
    "def printUnivList(ulist,num):\n",
    "\n",
    "    print(\"{0:^10}\\t{1:{3}^10}\\t{2:^10}\".format(\"排名\",\"名称\",\"得分\"),chr(12288))\n",
    "    for i in range(num):\n",
    "        u=ulist[i]\n",
    "        print(\"{:^10}\\t{:^6}\\t{:^10}\".format(u[0],u[1],u[2]))\n",
    "\n",
    "#格式对齐\n",
    "def printUnivList1(ulist,num):\n",
    "    tplt=\"{0:^10}\\t{1:{3}^10}\\t{2:^10}\"    #{3}format里面的第三个字符，中文字符填充\n",
    "    print(tplt.format(\"排名\",\"名称\",\"得分\",chr(12288)))\n",
    "    for i in range(num):\n",
    "        u=ulist[i]\n",
    "        print(tplt.format(u[0],u[1],u[2],chr(12288))) \n",
    "\n",
    "\n",
    "def main():\n",
    "    unifo=[]\n",
    "    url='https://www.shanghairanking.cn/rankings/bcur/2020'\n",
    "    html=getHTMLText(url)\n",
    "    fullUnivList(unifo,html)\n",
    "    printUnivList1(unifo,20)\n",
    "main()\n"
   ]
  },
  {
   "cell_type": "code",
   "execution_count": null,
   "metadata": {},
   "outputs": [],
   "source": [
    "import requests\n",
    "import bs4\n",
    "from bs4 import BeautifulSoup\n",
    "import csv\n",
    "url=\"https://www.shanghairanking.cn/rankings/bcsr/2020/0101\"\n",
    "headers={\"User-agent\":\"Mozilla/5.0 (Windows NT 10.0; Win64; x64) AppleWebKit/537.36 (KHTML, like Gecko) Chrome/86.0.4240.75 Safari/537.36\"}\n",
    "r=requests.get(url,headers=headers)\n",
    "r.encoding=r.apparent_encoding\n",
    "soup=BeautifulSoup(r.text,\"html.parser\")\n",
    "ulist=[]\n",
    "for tr in soup.find('tbody').children:\n",
    "    if isinstance(tr,bs4.element.Tag):\n",
    "        tds = tr('td')\n",
    "        ulist.append([tds[0].text.strip(),tds[1]('a')[0].text.strip(),tds[2].text.strip(),tds[4].text.strip()])       \n",
    "with open(\"F:/jupyter notebook/数据保存/大学排名2.csv\",'w',newline='',encoding='gbk') as csvf:\n",
    "    csv1=csv.writer(csvf)\n",
    "    csv1.writerow((\"排名\",'大学名称','省市','分数'))\n",
    "    for u in ulist:\n",
    "        csv1.writerow((u[0],u[1],u[2],u[3]))"
   ]
  },
  {
   "cell_type": "code",
   "execution_count": null,
   "metadata": {},
   "outputs": [],
   "source": []
  }
 ],
 "metadata": {
  "kernelspec": {
   "display_name": "Python 3",
   "language": "python",
   "name": "python3"
  },
  "language_info": {
   "codemirror_mode": {
    "name": "ipython",
    "version": 3
   },
   "file_extension": ".py",
   "mimetype": "text/x-python",
   "name": "python",
   "nbconvert_exporter": "python",
   "pygments_lexer": "ipython3",
   "version": "3.8.3"
  }
 },
 "nbformat": 4,
 "nbformat_minor": 4
}
